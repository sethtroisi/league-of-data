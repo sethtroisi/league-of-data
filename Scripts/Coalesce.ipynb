{
 "cells": [
  {
   "cell_type": "code",
   "execution_count": 13,
   "metadata": {
    "collapsed": false
   },
   "outputs": [],
   "source": [
    "import argparse\n",
    "import json\n",
    "import random\n",
    "import re\n",
    "\n",
    "from os import listdir\n",
    "from os.path import isfile, join\n",
    "\n",
    "from Util import *"
   ]
  },
  {
   "cell_type": "code",
   "execution_count": 14,
   "metadata": {
    "collapsed": true
   },
   "outputs": [],
   "source": [
    "def getArgParse():\n",
    "  parser = argparse.ArgumentParser(\n",
    "      description='Coalesces downloaded json matches to training and test data')\n",
    "\n",
    "  parser.add_argument(\n",
    "      '-d', '--directory',\n",
    "      type=str,\n",
    "      default='../Data/matches/',\n",
    "      help='Diretory of match json files')\n",
    "\n",
    "  parser.add_argument(\n",
    "      '--output-file',\n",
    "      type=str,\n",
    "      default='../Data/matchesAll.json',\n",
    "      help='File to store concatinated matches')\n",
    "\n",
    "  parser.add_argument(\n",
    "      '--percent',\n",
    "       type=int,\n",
    "       default=100,\n",
    "       help='Percent of games to include')\n",
    "\n",
    "  return parser"
   ]
  },
  {
   "cell_type": "code",
   "execution_count": 15,
   "metadata": {
    "collapsed": true
   },
   "outputs": [],
   "source": [
    "def main(args):\n",
    "  files = []\n",
    "\n",
    "  baseDir = args.directory\n",
    "  for f in listdir(baseDir):\n",
    "    fileName = join(baseDir, f)\n",
    "\n",
    "    if not isfile(fileName):\n",
    "      continue\n",
    "\n",
    "    assert re.match('^getMatch-[0-9]{10}$', f)\n",
    "\n",
    "    # TODO(sethtroisi): add filters based on dates and stuff here\n",
    "    #match = loadJsonFile(fileName)\n",
    "\n",
    "    files.append(fileName)\n",
    "\n",
    "  if args.percent != 100:\n",
    "    newSize = (len(files) * args.percent) // 100\n",
    "    print ('sampling for {} matches ({}% of {})'.format(newSize, args.percent, len(files)))\n",
    "    files = random.sample(files, newSize)\n",
    "    \n",
    "  print ('coalescing {} matches into \"{}\"'.format(len(files), args.output_file))\n",
    "\n",
    "  writeJsonFile(args.output_file, files)"
   ]
  },
  {
   "cell_type": "code",
   "execution_count": 17,
   "metadata": {
    "collapsed": false
   },
   "outputs": [
    {
     "name": "stdout",
     "output_type": "stream",
     "text": [
      "args: \"-d ../Data/matches/ --output-file ../Data/matchesAll.json --percent 1\"\n",
      "sampling for 272 matches (1% of 27214)\n",
      "coalescing 272 matches into \"../Data/matchesAll.json\"\n"
     ]
    }
   ],
   "source": [
    "# START CODE HERE\n",
    "argv = ['-d', '../Data/matches/',\n",
    "        '--output-file', '../Data/matchesAll.json',\n",
    "        '--percent', '1']\n",
    "print 'args: \"{}\"'.format(' '.join(argv))\n",
    "\n",
    "args = getArgParse().parse_args(argv)\n",
    "main(args)"
   ]
  },
  {
   "cell_type": "code",
   "execution_count": null,
   "metadata": {
    "collapsed": true
   },
   "outputs": [],
   "source": []
  }
 ],
 "metadata": {
  "kernelspec": {
   "display_name": "Python 2",
   "language": "python",
   "name": "python2"
  },
  "language_info": {
   "codemirror_mode": {
    "name": "ipython",
    "version": 2
   },
   "file_extension": ".py",
   "mimetype": "text/x-python",
   "name": "python",
   "nbconvert_exporter": "python",
   "pygments_lexer": "ipython2",
   "version": "2.7.8"
  }
 },
 "nbformat": 4,
 "nbformat_minor": 0
}
